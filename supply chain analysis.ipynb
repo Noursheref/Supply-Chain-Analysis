{
 "cells": [
  {
   "cell_type": "markdown",
   "id": "4ffbf230-7c77-4572-9d4d-802167e5ea13",
   "metadata": {},
   "source": [
    "# **Data Exploration**"
   ]
  },
  {
   "cell_type": "code",
   "execution_count": 17,
   "id": "4ff0475d-f092-467e-8c22-4ab6d4042dff",
   "metadata": {},
   "outputs": [],
   "source": [
    "df = pd.read_csv('C:\\\\Users\\\\AQ\\\\Downloads\\\\supply_chain_data.csv')"
   ]
  },
  {
   "cell_type": "code",
   "execution_count": 19,
   "id": "1d756b08-9346-4943-9999-b91c97eabf58",
   "metadata": {},
   "outputs": [
    {
     "name": "stdout",
     "output_type": "stream",
     "text": [
      "  Product type   SKU      Price  Availability  Number of products sold  \\\n",
      "0     haircare  SKU0  69.808006            55                      802   \n",
      "1     skincare  SKU1  14.843523            95                      736   \n",
      "2     haircare  SKU2  11.319683            34                        8   \n",
      "3     skincare  SKU3  61.163343            68                       83   \n",
      "4     skincare  SKU4   4.805496            26                      871   \n",
      "\n",
      "   Revenue generated Customer demographics  Stock levels  Lead times  \\\n",
      "0        8661.996792            Non-binary            58           7   \n",
      "1        7460.900065                Female            53          30   \n",
      "2        9577.749626               Unknown             1          10   \n",
      "3        7766.836426            Non-binary            23          13   \n",
      "4        2686.505152            Non-binary             5           3   \n",
      "\n",
      "   Order quantities  ...  Location Lead time  Production volumes  \\\n",
      "0                96  ...    Mumbai        29                 215   \n",
      "1                37  ...    Mumbai        23                 517   \n",
      "2                88  ...    Mumbai        12                 971   \n",
      "3                59  ...   Kolkata        24                 937   \n",
      "4                56  ...     Delhi         5                 414   \n",
      "\n",
      "  Manufacturing lead time Manufacturing costs  Inspection results  \\\n",
      "0                      29           46.279879             Pending   \n",
      "1                      30           33.616769             Pending   \n",
      "2                      27           30.688019             Pending   \n",
      "3                      18           35.624741                Fail   \n",
      "4                       3           92.065161                Fail   \n",
      "\n",
      "   Defect rates  Transportation modes   Routes       Costs  \n",
      "0      0.226410                  Road  Route B  187.752075  \n",
      "1      4.854068                  Road  Route B  503.065579  \n",
      "2      4.580593                   Air  Route C  141.920282  \n",
      "3      4.746649                  Rail  Route A  254.776159  \n",
      "4      3.145580                   Air  Route A  923.440632  \n",
      "\n",
      "[5 rows x 24 columns]\n"
     ]
    }
   ],
   "source": [
    "print(df.head())"
   ]
  },
  {
   "cell_type": "code",
   "execution_count": 21,
   "id": "2ea38a24-d17d-4d85-b0d6-fcdca4a9f316",
   "metadata": {},
   "outputs": [
    {
     "name": "stdout",
     "output_type": "stream",
     "text": [
      "            Price  Availability  Number of products sold  Revenue generated  \\\n",
      "count  100.000000    100.000000               100.000000         100.000000   \n",
      "mean    49.462461     48.400000               460.990000        5776.048187   \n",
      "std     31.168193     30.743317               303.780074        2732.841744   \n",
      "min      1.699976      1.000000                 8.000000        1061.618523   \n",
      "25%     19.597823     22.750000               184.250000        2812.847151   \n",
      "50%     51.239831     43.500000               392.500000        6006.352023   \n",
      "75%     77.198228     75.000000               704.250000        8253.976921   \n",
      "max     99.171329    100.000000               996.000000        9866.465458   \n",
      "\n",
      "       Stock levels  Lead times  Order quantities  Shipping times  \\\n",
      "count    100.000000  100.000000        100.000000      100.000000   \n",
      "mean      47.770000   15.960000         49.220000        5.750000   \n",
      "std       31.369372    8.785801         26.784429        2.724283   \n",
      "min        0.000000    1.000000          1.000000        1.000000   \n",
      "25%       16.750000    8.000000         26.000000        3.750000   \n",
      "50%       47.500000   17.000000         52.000000        6.000000   \n",
      "75%       73.000000   24.000000         71.250000        8.000000   \n",
      "max      100.000000   30.000000         96.000000       10.000000   \n",
      "\n",
      "       Shipping costs   Lead time  Production volumes  \\\n",
      "count      100.000000  100.000000          100.000000   \n",
      "mean         5.548149   17.080000          567.840000   \n",
      "std          2.651376    8.846251          263.046861   \n",
      "min          1.013487    1.000000          104.000000   \n",
      "25%          3.540248   10.000000          352.000000   \n",
      "50%          5.320534   18.000000          568.500000   \n",
      "75%          7.601695   25.000000          797.000000   \n",
      "max          9.929816   30.000000          985.000000   \n",
      "\n",
      "       Manufacturing lead time  Manufacturing costs  Defect rates       Costs  \n",
      "count                100.00000           100.000000    100.000000  100.000000  \n",
      "mean                  14.77000            47.266693      2.277158  529.245782  \n",
      "std                    8.91243            28.982841      1.461366  258.301696  \n",
      "min                    1.00000             1.085069      0.018608  103.916248  \n",
      "25%                    7.00000            22.983299      1.009650  318.778455  \n",
      "50%                   14.00000            45.905622      2.141863  520.430444  \n",
      "75%                   23.00000            68.621026      3.563995  763.078231  \n",
      "max                   30.00000            99.466109      4.939255  997.413450  \n"
     ]
    }
   ],
   "source": [
    "print(df.describe())"
   ]
  },
  {
   "cell_type": "code",
   "execution_count": 23,
   "id": "e2da6d6f-b6b7-4fe6-863c-99a73f3a6765",
   "metadata": {},
   "outputs": [
    {
     "name": "stdout",
     "output_type": "stream",
     "text": [
      "Product type               0\n",
      "SKU                        0\n",
      "Price                      0\n",
      "Availability               0\n",
      "Number of products sold    0\n",
      "Revenue generated          0\n",
      "Customer demographics      0\n",
      "Stock levels               0\n",
      "Lead times                 0\n",
      "Order quantities           0\n",
      "Shipping times             0\n",
      "Shipping carriers          0\n",
      "Shipping costs             0\n",
      "Supplier name              0\n",
      "Location                   0\n",
      "Lead time                  0\n",
      "Production volumes         0\n",
      "Manufacturing lead time    0\n",
      "Manufacturing costs        0\n",
      "Inspection results         0\n",
      "Defect rates               0\n",
      "Transportation modes       0\n",
      "Routes                     0\n",
      "Costs                      0\n",
      "dtype: int64\n"
     ]
    }
   ],
   "source": [
    "print(df.isnull().sum())"
   ]
  },
  {
   "cell_type": "code",
   "execution_count": 25,
   "id": "376fd06b-cf90-44cf-8196-b6c729bd297a",
   "metadata": {},
   "outputs": [
    {
     "name": "stdout",
     "output_type": "stream",
     "text": [
      "<class 'pandas.core.frame.DataFrame'>\n",
      "RangeIndex: 100 entries, 0 to 99\n",
      "Data columns (total 24 columns):\n",
      " #   Column                   Non-Null Count  Dtype  \n",
      "---  ------                   --------------  -----  \n",
      " 0   Product type             100 non-null    object \n",
      " 1   SKU                      100 non-null    object \n",
      " 2   Price                    100 non-null    float64\n",
      " 3   Availability             100 non-null    int64  \n",
      " 4   Number of products sold  100 non-null    int64  \n",
      " 5   Revenue generated        100 non-null    float64\n",
      " 6   Customer demographics    100 non-null    object \n",
      " 7   Stock levels             100 non-null    int64  \n",
      " 8   Lead times               100 non-null    int64  \n",
      " 9   Order quantities         100 non-null    int64  \n",
      " 10  Shipping times           100 non-null    int64  \n",
      " 11  Shipping carriers        100 non-null    object \n",
      " 12  Shipping costs           100 non-null    float64\n",
      " 13  Supplier name            100 non-null    object \n",
      " 14  Location                 100 non-null    object \n",
      " 15  Lead time                100 non-null    int64  \n",
      " 16  Production volumes       100 non-null    int64  \n",
      " 17  Manufacturing lead time  100 non-null    int64  \n",
      " 18  Manufacturing costs      100 non-null    float64\n",
      " 19  Inspection results       100 non-null    object \n",
      " 20  Defect rates             100 non-null    float64\n",
      " 21  Transportation modes     100 non-null    object \n",
      " 22  Routes                   100 non-null    object \n",
      " 23  Costs                    100 non-null    float64\n",
      "dtypes: float64(6), int64(9), object(9)\n",
      "memory usage: 18.9+ KB\n",
      "None\n"
     ]
    }
   ],
   "source": [
    "print(df.info())"
   ]
  },
  {
   "cell_type": "code",
   "execution_count": 27,
   "id": "3da62512-fd26-4515-a370-18d4833e61f7",
   "metadata": {},
   "outputs": [
    {
     "name": "stdout",
     "output_type": "stream",
     "text": [
      "None\n"
     ]
    }
   ],
   "source": [
    "print(df.drop_duplicates(inplace=True))"
   ]
  },
  {
   "cell_type": "code",
   "execution_count": 29,
   "id": "c5631e7f-c0c2-417c-9748-cebe980d8710",
   "metadata": {},
   "outputs": [
    {
     "name": "stdout",
     "output_type": "stream",
     "text": [
      "       Price  Availability  Number of products sold  Revenue generated  \\\n",
      "0   0.652766      0.214681                 1.122556           1.056025   \n",
      "1  -1.110714      1.515777                 0.905293           0.616520   \n",
      "2  -1.223773     -0.468394                -1.491177           1.391117   \n",
      "3   0.375411      0.637537                -1.244288           0.728468   \n",
      "4  -1.432774     -0.728614                 1.349694          -1.130524   \n",
      "..       ...           ...                      ...                ...   \n",
      "95  0.912516      0.539955                 0.694614           0.589246   \n",
      "96 -0.803362     -0.631031                -0.450951           0.703435   \n",
      "97 -1.473821      0.247208                -1.313417          -0.514165   \n",
      "98 -0.953147     -0.175648                 1.487951           1.006244   \n",
      "99  0.611372     -1.021360                 0.546481           1.247470   \n",
      "\n",
      "    Stock levels  Lead times  Order quantities  Shipping times  \\\n",
      "0       0.326114   -1.019827          1.746537       -0.642371   \n",
      "1       0.166723    1.598033         -0.456235       -1.376509   \n",
      "2      -1.490945   -0.678367          1.447856       -1.376509   \n",
      "3      -0.789624   -0.336907          0.365138        0.091767   \n",
      "4      -1.363432   -1.475107          0.253132        0.825905   \n",
      "..           ...         ...               ...             ...   \n",
      "95     -1.044650   -0.223087         -0.866922        1.192975   \n",
      "96      0.613018   -1.588927         -0.642911       -1.009440   \n",
      "97     -0.056424    0.346013         -1.688294        1.192975   \n",
      "98      0.166723   -1.702747         -0.829586        0.458836   \n",
      "99      0.230480   -0.906007          0.365138        0.091767   \n",
      "\n",
      "    Shipping costs  Lead time  Production volumes  Manufacturing lead time  \\\n",
      "0        -0.977446   1.347463           -1.341358                 1.596646   \n",
      "1         1.572175   0.669210           -0.193274                 1.708849   \n",
      "2         0.945294  -0.574255            1.532655                 1.372241   \n",
      "3        -1.440226   0.782252            1.403400                 0.362415   \n",
      "4        -0.625185  -1.365550           -0.584839                -1.320627   \n",
      "..             ...        ...                 ...                      ...   \n",
      "95        1.162487   0.103999           -0.447981                 1.260038   \n",
      "96       -0.073649   1.234421            0.304737                 1.484444   \n",
      "97        0.888858  -0.800339           -0.124845                -0.198599   \n",
      "98       -1.560831   1.234421            0.050029                -0.647410   \n",
      "99       -1.598086   1.347463            1.342574                -1.432830   \n",
      "\n",
      "    Manufacturing costs  Defect rates     Costs  \n",
      "0             -0.034048     -1.403309 -1.322073  \n",
      "1             -0.470966      1.763358 -0.101355  \n",
      "2             -0.572017      1.576221 -1.499508  \n",
      "3             -0.401684      1.689851 -1.062593  \n",
      "4              1.545689      0.594253  1.526102  \n",
      "..                  ...           ...       ...  \n",
      "95             0.401065     -0.729643  0.966383  \n",
      "96            -1.016565      1.091369 -1.318240  \n",
      "97             0.638256      0.752091  0.042147  \n",
      "98            -1.437471      0.431763  1.366437  \n",
      "99            -0.317215     -1.321456 -1.233065  \n",
      "\n",
      "[100 rows x 15 columns]\n"
     ]
    }
   ],
   "source": [
    "numeric_columns = df.select_dtypes(include=['number'])\n",
    "z_scores = (numeric_columns - numeric_columns.mean()) / numeric_columns.std()\n",
    "print(z_scores)"
   ]
  },
  {
   "cell_type": "code",
   "execution_count": 31,
   "id": "fcca3d10-cfba-4dca-8700-cd9e2e50938b",
   "metadata": {},
   "outputs": [
    {
     "data": {
      "image/png": "[encoded data removed]",
      "text/plain": [
       "<Figure size 640x480 with 1 Axes>"
      ]
     },
     "metadata": {},
     "output_type": "display_data"
    }
   ],
   "source": [
    "outliers = df[(z_scores > 3) | (z_scores < -3)]\n",
    "plt.boxplot(df[['Availability','Number of products sold','Price','Manufacturing costs','Defect rates']])\n",
    "plt.show()"
   ]
  },
  {
   "cell_type": "markdown",
   "id": "5d161a4b-6326-4026-aa8a-3af52162481d",
   "metadata": {},
   "source": [
    "### Category 2 shows significant variability with potential outliers, as indicated by the wide IQR and long whiskers."
   ]
  },
  {
   "cell_type": "code",
   "execution_count": 32,
   "id": "761840c4-deb3-4969-b9fb-16217e8be2ad",
   "metadata": {},
   "outputs": [
    {
     "name": "stdout",
     "output_type": "stream",
     "text": [
      "   Product type    SKU      Price  Availability  Number of products sold  \\\n",
      "0      haircare   SKU0  69.808006            55                      802   \n",
      "1      skincare   SKU1  14.843523            95                      736   \n",
      "2      haircare   SKU2  11.319683            34                        8   \n",
      "3      skincare   SKU3  61.163343            68                       83   \n",
      "4      skincare   SKU4   4.805496            26                      871   \n",
      "..          ...    ...        ...           ...                      ...   \n",
      "95     haircare  SKU95  77.903927            65                      672   \n",
      "96    cosmetics  SKU96  24.423131            29                      324   \n",
      "97     haircare  SKU97   3.526111            56                       62   \n",
      "98     skincare  SKU98  19.754605            43                      913   \n",
      "99     haircare  SKU99  68.517833            17                      627   \n",
      "\n",
      "    Revenue generated Customer demographics  Stock levels  Lead times  \\\n",
      "0         8661.996792            Non-binary            58           7   \n",
      "1         7460.900065                Female            53          30   \n",
      "2         9577.749626               Unknown             1          10   \n",
      "3         7766.836426            Non-binary            23          13   \n",
      "4         2686.505152            Non-binary             5           3   \n",
      "..                ...                   ...           ...         ...   \n",
      "95        7386.363944               Unknown            15          14   \n",
      "96        7698.424766            Non-binary            67           2   \n",
      "97        4370.916580                  Male            46          19   \n",
      "98        8525.952560                Female            53           1   \n",
      "99        9185.185829               Unknown            55           8   \n",
      "\n",
      "    Order quantities  ...  Lead time Production volumes  \\\n",
      "0                 96  ...         29                215   \n",
      "1                 37  ...         23                517   \n",
      "2                 88  ...         12                971   \n",
      "3                 59  ...         24                937   \n",
      "4                 56  ...          5                414   \n",
      "..               ...  ...        ...                ...   \n",
      "95                26  ...         18                450   \n",
      "96                32  ...         28                648   \n",
      "97                 4  ...         10                535   \n",
      "98                27  ...         28                581   \n",
      "99                59  ...         29                921   \n",
      "\n",
      "    Manufacturing lead time Manufacturing costs Inspection results  \\\n",
      "0                        29           46.279879            Pending   \n",
      "1                        30           33.616769            Pending   \n",
      "2                        27           30.688019            Pending   \n",
      "3                        18           35.624741               Fail   \n",
      "4                         3           92.065161               Fail   \n",
      "..                      ...                 ...                ...   \n",
      "95                       26           58.890686            Pending   \n",
      "96                       28           17.803756            Pending   \n",
      "97                       13           65.765156               Fail   \n",
      "98                        9            5.604691            Pending   \n",
      "99                        2           38.072899               Fail   \n",
      "\n",
      "    Defect rates  Transportation modes   Routes       Costs Inventory Turnover  \n",
      "0       0.226410                  Road  Route B  187.752075          13.827586  \n",
      "1       4.854068                  Road  Route B  503.065579          13.886792  \n",
      "2       4.580593                   Air  Route C  141.920282           8.000000  \n",
      "3       4.746649                  Rail  Route A  254.776159           3.608696  \n",
      "4       3.145580                   Air  Route A  923.440632         174.200000  \n",
      "..           ...                   ...      ...         ...                ...  \n",
      "95      1.210882                   Air  Route A  778.864241          44.800000  \n",
      "96      3.872048                  Road  Route A  188.742141           4.835821  \n",
      "97      3.376238                  Road  Route A  540.132423           1.347826  \n",
      "98      2.908122                  Rail  Route A  882.198864          17.226415  \n",
      "99      0.346027                  Rail  Route B  210.743009          11.400000  \n",
      "\n",
      "[100 rows x 25 columns]\n"
     ]
    }
   ],
   "source": [
    "df['Inventory Turnover'] = df['Number of products sold'] / df['Stock levels']\n",
    "print(df)"
   ]
  },
  {
   "cell_type": "markdown",
   "id": "d4ab37f0-a676-4a9f-b21a-b0cac338fcb3",
   "metadata": {},
   "source": [
    "# **Analyzing SKUs**\n",
    "## **Number of sold Skincare products by SKU**"
   ]
  },
  {
   "cell_type": "code",
   "execution_count": null,
   "id": "c0af18ae-f362-493c-818a-19ebf613df99",
   "metadata": {},
   "outputs": [],
   "source": [
    "skincare_data = df[df['Product type'] == 'skincare']\n",
    "skincare_sku = skincare_data.groupby('SKU')['Number of products sold'].sum().reset_index()\n",
    "skincare_sku =skincare_sku.sort_values(by='Number of products sold', ascending=False)\n",
    "plt.figure(figsize=(10, 5))\n",
    "palette = sns.color_palette(\"Set2\", n_colors=min(40, len(grouped_data)))\n",
    "ax = sns.barplot(data=skincare_sku, x='SKU', y='Number of products sold',hue='SKU',legend=False, palette=palette)\n",
    "ax.set_xticks(range(len(grouped_data['SKU'])))\n",
    "ax.set_xticklabels(ax.get_xticklabels(), rotation=45, horizontalalignment='right')\n",
    "plt.title('Number of sold Skincare products by SKU')\n",
    "plt.ylabel('Number of products sold')\n",
    "plt.tight_layout()\n",
    "plt.show()"
   ]
  },
  {
   "cell_type": "markdown",
   "id": "f0232f1f-43da-491b-989b-fc4353eae2fe",
   "metadata": {},
   "source": [
    "## **Number of sold cosmetics by SKU**"
   ]
  },
  {
   "cell_type": "code",
   "execution_count": null,
   "id": "77356d19-7b1a-4111-9c3e-9c1a7df736a8",
   "metadata": {},
   "outputs": [],
   "source": [
    "cosmetics_data = df[df['Product type'] == 'Cosmetics']\n",
    "cosmetics_sku = cosmetics_data.groupby('SKU')['Number of products sold'].sum().reset_index()\n",
    "cosmetics_sku =cosmetics_sku.sort_values(by='Number of products sold', ascending=False)\n",
    "plt.figure(figsize=(10, 5))\n",
    "palette = sns.color_palette(\"Set2\", n_colors=min(40, len(grouped_data)))\n",
    "ax.set_xticks(range(len(grouped_data['SKU'])))\n",
    "ax = sns.barplot(data=skincare_sku, x='SKU', y='Number of products sold',hue='SKU',legend=False, palette=palette)\n",
    "ax.set_xticklabels(ax.get_xticklabels(), rotation=45, horizontalalignment='right')\n",
    "plt.title('Number of sold cosmetics products by SKU')\n",
    "plt.ylabel('Number of products sold')\n",
    "plt.tight_layout()\n",
    "plt.show()"
   ]
  },
  {
   "cell_type": "markdown",
   "id": "63874dd4-6e75-424f-8e64-0ce3f2f256c3",
   "metadata": {},
   "source": [
    "## **Number of sold Haircare products by SKU**"
   ]
  },
  {
   "cell_type": "code",
   "execution_count": null,
   "id": "ca38caa5-5fff-470f-bd67-30e262af9ee0",
   "metadata": {},
   "outputs": [],
   "source": [
    "haircare_data = df[df['Product type'] == 'Haircare']\n",
    "haircare_sku = cosmetics_data.groupby('SKU')['Number of products sold'].sum().reset_index()\n",
    "haircare_sku =cosmetics_sku.sort_values(by='Number of products sold', ascending=False)\n",
    "plt.figure(figsize=(10, 5))\n",
    "palette = sns.color_palette(\"Set2\", n_colors=min(40, len(grouped_data)))\n",
    "ax.set_xticks(range(len(grouped_data['SKU'])))\n",
    "ax = sns.barplot(data=skincare_sku, x='SKU', y='Number of products sold',hue='SKU', palette=palette,legend=False)\n",
    "ax.set_xticklabels(ax.get_xticklabels(), rotation=45, horizontalalignment='right')\n",
    "plt.title('Number of sold haircare products by SKU')\n",
    "plt.ylabel('Number of products sold')\n",
    "plt.tight_layout()\n",
    "plt.show()"
   ]
  },
  {
   "cell_type": "markdown",
   "id": "d3cdc637-c197-4830-b2c7-d2fde57d2f30",
   "metadata": {},
   "source": [
    "## **Inventory Turnover Rate Per Product**"
   ]
  },
  {
   "cell_type": "code",
   "execution_count": 33,
   "id": "0032bb46-9128-4448-b69d-d635daab0354",
   "metadata": {},
   "outputs": [
    {
     "data": {
      "image/png": "[encoded data removed]",
      "text/plain": [
       "<Figure size 700x600 with 1 Axes>"
      ]
     },
     "metadata": {},
     "output_type": "display_data"
    }
   ],
   "source": [
    "colors='[#333A73','#FBA834','#50C4ED']\n",
    "plt.figure(figsize=(7, 6))\n",
    "plt.bar(df['Product type'], df['Inventory Turnover'], color=colors)\n",
    "plt.title('Inventory Turnover Rate per Product')  \n",
    "plt.xlabel('Product type')  \n",
    "plt.ylabel('Inventory Turnover Rate')  \n",
    "plt.show()"
   ]
  },
  {
   "cell_type": "markdown",
   "id": "2c68e1a2-df5d-4952-8365-946231074443",
   "metadata": {},
   "source": [
    "### The analysis indicates that skincare products have the highest inventory levels, reflecting strong demand and consumer interest in skincare solutions."
   ]
  },
  {
   "cell_type": "markdown",
   "id": "af904550-c9aa-47be-9c44-4f39193375d1",
   "metadata": {},
   "source": [
    "## **Sales by product type**"
   ]
  },
  {
   "cell_type": "code",
   "execution_count": null,
   "id": "2d2155fb-72ed-40fb-8462-32a659f70943",
   "metadata": {},
   "outputs": [],
   "source": [
    "colors=['#86D293','#C1E2A4','#6256CA']\n",
    "product_sales=df.groupby('Product type')['Number of products sold'].sum().reset_index()\n",
    "plt.figure(figsize=(8, 5))\n",
    "plt.pie(product_sales['Number of products sold'],\n",
    "         labels=product_sales['Product type'],\n",
    "         autopct='%1.1f%%',startangle=90, colors=colors ,wedgeprops=dict(width=0.5),pctdistance=0.75 )       \n",
    "plt.title('Sales by product type')\n",
    "plt.show"
   ]
  },
  {
   "cell_type": "markdown",
   "id": "c5f08b4a-6441-4c75-a64b-72ceb573c67d",
   "metadata": {},
   "source": [
    "### Skincare products are the most preferred products as they are the highest in sales."
   ]
  },
  {
   "cell_type": "markdown",
   "id": "36405eeb-c356-4de3-a2fd-323d07555591",
   "metadata": {},
   "source": [
    "## **Total Number of Products per Category**"
   ]
  },
  {
   "cell_type": "code",
   "execution_count": 15,
   "id": "3a46fea2-0e77-4611-b512-57f44a22a603",
   "metadata": {},
   "outputs": [
    {
     "ename": "NameError",
     "evalue": "name 'df' is not defined",
     "output_type": "error",
     "traceback": [
      "\u001b[1;31m---------------------------------------------------------------------------\u001b[0m",
      "\u001b[1;31mNameError\u001b[0m                                 Traceback (most recent call last)",
      "Cell \u001b[1;32mIn[15], line 2\u001b[0m\n\u001b[0;32m      1\u001b[0m colors\u001b[38;5;241m=\u001b[39m[\u001b[38;5;124m'\u001b[39m\u001b[38;5;124m#3A6D8C\u001b[39m\u001b[38;5;124m'\u001b[39m,\u001b[38;5;124m'\u001b[39m\u001b[38;5;124m#6A9AB0\u001b[39m\u001b[38;5;124m'\u001b[39m,\u001b[38;5;124m'\u001b[39m\u001b[38;5;124m#001F3F\u001b[39m\u001b[38;5;124m'\u001b[39m]\n\u001b[1;32m----> 2\u001b[0m product_type_counts \u001b[38;5;241m=\u001b[39m df \u001b[38;5;241m.\u001b[39mgroupby([\u001b[38;5;124m'\u001b[39m\u001b[38;5;124mProduct type\u001b[39m\u001b[38;5;124m'\u001b[39m])[\u001b[38;5;124m'\u001b[39m\u001b[38;5;124mProduct type\u001b[39m\u001b[38;5;124m'\u001b[39m]\u001b[38;5;241m.\u001b[39mcount()\n\u001b[0;32m      3\u001b[0m product_type_counts\u001b[38;5;241m.\u001b[39mplot(kind\u001b[38;5;241m=\u001b[39m\u001b[38;5;124m'\u001b[39m\u001b[38;5;124mbar\u001b[39m\u001b[38;5;124m'\u001b[39m, figsize\u001b[38;5;241m=\u001b[39m(\u001b[38;5;241m8\u001b[39m, \u001b[38;5;241m6\u001b[39m), color\u001b[38;5;241m=\u001b[39mcolors)\n\u001b[0;32m      4\u001b[0m plt\u001b[38;5;241m.\u001b[39mtitle(\u001b[38;5;124m'\u001b[39m\u001b[38;5;124mNumber of Products by Product Type\u001b[39m\u001b[38;5;124m'\u001b[39m)\n",
      "\u001b[1;31mNameError\u001b[0m: name 'df' is not defined"
     ]
    }
   ],
   "source": [
    "colors=['#3A6D8C','#6A9AB0','#001F3F']\n",
    "product_type_counts = df .groupby(['Product type'])['Product type'].count()\n",
    "product_type_counts.plot(kind='bar', figsize=(8, 6), color=colors)\n",
    "plt.title('Number of Products by Product Type')\n",
    "plt.xlabel('Product Type')\n",
    "plt.ylabel('Count')\n",
    "plt.show()"
   ]
  },
  {
   "cell_type": "markdown",
   "id": "72777c52-4934-4085-b5c3-442cc2ba4948",
   "metadata": {},
   "source": [
    "## **Total Revenue by City**"
   ]
  },
  {
   "cell_type": "code",
   "execution_count": null,
   "id": "537475d2-73b5-479c-a5aa-88fc238f1798",
   "metadata": {},
   "outputs": [],
   "source": [
    "colors=['#1B4242','#5C8374','#9EC8B9','#686D76','#507687']\n",
    "city_sales=df.groupby('Location')['Revenue generated'].sum().reset_index()\n",
    "plt.figure(figsize=(8,5))\n",
    "plt.barh(city_sales['Location'],city_sales['Revenue generated'],color=colors)\n",
    "plt.xlabel('Revenue generated')\n",
    "plt.ylabel('Location')\n",
    "plt.title('Total Revenue by City')\n",
    "plt.tight_layout()\n",
    "plt.show()"
   ]
  },
  {
   "cell_type": "markdown",
   "id": "aff7d95d-8d74-4c4f-9a07-ec91afced393",
   "metadata": {},
   "source": [
    "### Mumbai is the city which generats the highest revenue."
   ]
  },
  {
   "cell_type": "markdown",
   "id": "2bb9a72b-f0b4-4117-a5d1-4620fd4479d2",
   "metadata": {},
   "source": [
    "## **Distribution of Product Prices by Location and Type**"
   ]
  },
  {
   "cell_type": "code",
   "execution_count": 37,
   "id": "fa27cd79-1965-4136-9ebe-9b9745c5d986",
   "metadata": {},
   "outputs": [
    {
     "data": {
      "image/png": "[encoded data removed]",
      "text/plain": [
       "<Figure size 1200x600 with 1 Axes>"
      ]
     },
     "metadata": {},
     "output_type": "display_data"
    }
   ],
   "source": [
    "plt.figure(figsize=(12, 6)) \n",
    "sns.boxplot(data=df, x='Location', y='Price', hue='Product type')\n",
    "plt.title('Product Prices by Location and Product Type')\n",
    "plt.xlabel('Location')\n",
    "plt.ylabel('Price')\n",
    "plt.show()"
   ]
  },
  {
   "cell_type": "markdown",
   "id": "60d57699-d7ee-42c3-823c-fabf8b053247",
   "metadata": {},
   "source": [
    "### When it comes to prices, Chennai leads in all the categories."
   ]
  },
  {
   "cell_type": "markdown",
   "id": "b0e97a2a-1c44-44f1-b616-ae4cf86cf2e4",
   "metadata": {},
   "source": [
    "## **Total Revenue by product type**"
   ]
  },
  {
   "cell_type": "code",
   "execution_count": 27,
   "id": "b6da1fd4-fda9-4794-a510-d0180f8f73f6",
   "metadata": {},
   "outputs": [
    {
     "ename": "NameError",
     "evalue": "name 'df' is not defined",
     "output_type": "error",
     "traceback": [
      "\u001b[1;31m---------------------------------------------------------------------------\u001b[0m",
      "\u001b[1;31mNameError\u001b[0m                                 Traceback (most recent call last)",
      "Cell \u001b[1;32mIn[27], line 2\u001b[0m\n\u001b[0;32m      1\u001b[0m colors\u001b[38;5;241m=\u001b[39m[\u001b[38;5;124m'\u001b[39m\u001b[38;5;124m#605678\u001b[39m\u001b[38;5;124m'\u001b[39m,\u001b[38;5;124m'\u001b[39m\u001b[38;5;124m#8ABFA3\u001b[39m\u001b[38;5;124m'\u001b[39m,\u001b[38;5;124m'\u001b[39m\u001b[38;5;124m#FFBF61\u001b[39m\u001b[38;5;124m'\u001b[39m]\n\u001b[1;32m----> 2\u001b[0m revenue_per_product \u001b[38;5;241m=\u001b[39m df\u001b[38;5;241m.\u001b[39mgroupby(\u001b[38;5;124m'\u001b[39m\u001b[38;5;124mProduct type\u001b[39m\u001b[38;5;124m'\u001b[39m)[\u001b[38;5;124m'\u001b[39m\u001b[38;5;124mRevenue generated\u001b[39m\u001b[38;5;124m'\u001b[39m]\u001b[38;5;241m.\u001b[39msum()\u001b[38;5;241m.\u001b[39mreset_index()\n\u001b[0;32m      3\u001b[0m plt\u001b[38;5;241m.\u001b[39mfigure(figsize\u001b[38;5;241m=\u001b[39m(\u001b[38;5;241m7\u001b[39m, \u001b[38;5;241m6\u001b[39m))\n\u001b[0;32m      4\u001b[0m plt\u001b[38;5;241m.\u001b[39mbar(revenue_per_product[\u001b[38;5;124m'\u001b[39m\u001b[38;5;124mProduct type\u001b[39m\u001b[38;5;124m'\u001b[39m], revenue_per_product[\u001b[38;5;124m'\u001b[39m\u001b[38;5;124mRevenue generated\u001b[39m\u001b[38;5;124m'\u001b[39m], color\u001b[38;5;241m=\u001b[39mcolors)\n",
      "\u001b[1;31mNameError\u001b[0m: name 'df' is not defined"
     ]
    }
   ],
   "source": [
    "colors=['#605678','#8ABFA3','#FFBF61']\n",
    "revenue_per_product = df.groupby('Product type')['Revenue generated'].sum().reset_index()\n",
    "plt.figure(figsize=(7, 6))\n",
    "plt.bar(revenue_per_product['Product type'], revenue_per_product['Revenue generated'], color=colors)\n",
    "plt.title('Total Revenue per Product type')  \n",
    "plt.xlabel('Product Type') \n",
    "plt.ylabel('Total Revenue')  \n",
    "plt.show()"
   ]
  },
  {
   "cell_type": "markdown",
   "id": "4e34aa3e-9509-42ca-8ba3-d7a9b66e7503",
   "metadata": {},
   "source": [
    "### Skincare products generate the highest revenue."
   ]
  },
  {
   "cell_type": "markdown",
   "id": "29040749-8f86-4404-bc37-bd5e439abf56",
   "metadata": {},
   "source": [
    "## **Total Revenue by shipping carrier**"
   ]
  },
  {
   "cell_type": "code",
   "execution_count": null,
   "id": "e2caab6e-40b3-46b3-aff6-a74307003909",
   "metadata": {},
   "outputs": [],
   "source": [
    "colors=['#1B4242','#5C8374','#9EC8B9']\n",
    "carrier_revenue=df.groupby('Shipping carriers')['Revenue generated'].sum().reset_index()\n",
    "plt.figure(figsize=(8,5))\n",
    "plt.bar(carrier_revenue['Shipping carriers'],carrier_revenue['Revenue generated'], color=colors)\n",
    "plt.xlabel('Shipping Carriers')\n",
    "plt.ylabel('Revenue generated')\n",
    "plt.title('Total Revenue by Shipping Carriers')\n",
    "plt.tight_layout()\n",
    "plt.show()"
   ]
  },
  {
   "cell_type": "markdown",
   "id": "3a8390f0-4153-4bb4-a9a8-c1dc68779872",
   "metadata": {},
   "source": [
    "### The company use 3 Carriers for transportation and carrier B helps the company in generating more revenue."
   ]
  },
  {
   "cell_type": "markdown",
   "id": "1180bbf8-f1b7-4d28-b105-08df14b79d37",
   "metadata": {},
   "source": [
    "## **Revenue distribution by customers demographics**"
   ]
  },
  {
   "cell_type": "code",
   "execution_count": 41,
   "id": "1b0f13d0-d8f1-4c22-9282-a811b3738ece",
   "metadata": {},
   "outputs": [
    {
     "data": {
      "image/png": "[encoded data removed]",
      "text/plain": [
       "<Figure size 500x500 with 1 Axes>"
      ]
     },
     "metadata": {},
     "output_type": "display_data"
    }
   ],
   "source": [
    "revenue_per_demographics = df.groupby('Customer demographics')['Revenue generated'].sum().reset_index()\n",
    "plt.figure(figsize=(5, 5))\n",
    "plt.pie(revenue_per_demographics['Revenue generated'], labels=revenue_per_demographics['Customer demographics'], autopct='%1.1f%%', startangle=140, colors=plt.cm.Paired.colors)\n",
    "plt.title('Total Revenue per Customer Demographics')  \n",
    "plt.show()"
   ]
  },
  {
   "cell_type": "markdown",
   "id": "ed7aa666-fabf-4728-8bdd-5aa36311f14b",
   "metadata": {},
   "source": [
    "### so 28% of total revenue comes from Femals & 21% comes from Males."
   ]
  },
  {
   "cell_type": "markdown",
   "id": "295def93-ee1d-464f-a9ea-1d357a0c8904",
   "metadata": {},
   "source": [
    "## **Analyzing Lead Time and Manufacturing cost**\n",
    "### **Average lead time and Average Manufacturing Cost for all the products**"
   ]
  },
  {
   "cell_type": "code",
   "execution_count": null,
   "id": "256b0579-bdd6-40dd-ae8b-6d006ed72a92",
   "metadata": {},
   "outputs": [],
   "source": [
    "av_time=df.groupby('Product type')['Lead time'].mean().reset_index()\n",
    "av_manufacturecost=df.groupby('Product type')['Manufacturing costs'].mean().reset_index()\n",
    "comb=pd.merge(av_time,av_manufacturecost ,on='Product type')\n",
    "comb.rename(columns={'Lead time': 'Average Lead Time', 'Manufacturing costs': 'Average Manufacturing Costs'}, inplace=True)\n",
    "comb   "
   ]
  },
  {
   "cell_type": "markdown",
   "id": "3c8ab95c-a32f-4ceb-9015-eb791f4cc0ec",
   "metadata": {},
   "source": [
    "## **Total Quantity Sold by Transportation Mode**"
   ]
  },
  {
   "cell_type": "code",
   "execution_count": 43,
   "id": "ddc9ec65-7129-4b91-9f0f-8910a72e919c",
   "metadata": {},
   "outputs": [
    {
     "data": {
      "image/png": "[encoded data removed]",
      "text/plain": [
       "<Figure size 700x500 with 1 Axes>"
      ]
     },
     "metadata": {},
     "output_type": "display_data"
    }
   ],
   "source": [
    "colors=['#333A73','#FBA834','#50C4ED','#387ADF']\n",
    "usage_per_transportation = df.groupby('Transportation modes')['Order quantities'].sum().reset_index()\n",
    "plt.figure(figsize=(7, 5))\n",
    "plt.barh(usage_per_transportation['Transportation modes'], usage_per_transportation['Order quantities'],color=colors )\n",
    "plt.title('Total Quantity Sold by Transportation Mode') \n",
    "plt.xlabel('Total Quantity Sold')  \n",
    "plt.ylabel('Transportation Mode') \n",
    "plt.show()"
   ]
  },
  {
   "cell_type": "markdown",
   "id": "97ea7f5d-6278-489e-85ba-48afe75ee6ec",
   "metadata": {},
   "source": [
    "## **Cost Distribution by Transportation Modes**\t"
   ]
  },
  {
   "cell_type": "code",
   "execution_count": null,
   "id": "ed454dbe-bf76-4486-a8d5-5a475556053d",
   "metadata": {},
   "outputs": [],
   "source": [
    "colors=['#333A73','#FBA834','#50C4ED','#387ADF']\n",
    "Tcosts=df.groupby('Transportation modes')['Costs'].sum().reset_index()\n",
    "plt.figure(figsize=(8, 5))\n",
    "plt.pie(Tcosts['Costs'],labels=Tcosts['Transportation modes'],\n",
    "        autopct='%1.1f%%',startangle=90 ,colors=colors ,wedgeprops=dict(width=0.5),pctdistance=0.75 )\n",
    "plt.title('Cost Distribution by Transportation Modes')\n",
    "plt.show()"
   ]
  },
  {
   "cell_type": "markdown",
   "id": "341abf91-2817-491a-8f99-128fd0972702",
   "metadata": {},
   "source": [
    "### Road and Rail transportation methods are more expensive for the company compared to other forms of transport."
   ]
  },
  {
   "cell_type": "markdown",
   "id": "b6fe18b5-1901-4829-b900-2656ba15fcf8",
   "metadata": {},
   "source": [
    "## **Analyzing Defect Rate**"
   ]
  },
  {
   "cell_type": "markdown",
   "id": "f806b7ca-5697-4719-b0df-2e0da0883c2a",
   "metadata": {},
   "source": [
    "### **Average Defect Rate by Product Type**"
   ]
  },
  {
   "cell_type": "code",
   "execution_count": null,
   "id": "59ee8956-99c6-4f32-833d-f94642dfbaba",
   "metadata": {},
   "outputs": [],
   "source": [
    "colors=['#1B4242','#5C8374','#9EC8B9']\n",
    "avg_defect=df.groupby('Product type')['Defect rates'].mean().reset_index()\n",
    "plt.figure(figsize=(8,5))\n",
    "plt.bar(avg_defect['Product type'],avg_defect['Defect rates'], color=colors)\n",
    "plt.xlabel('Product type')\n",
    "plt.ylabel('Average Defect rates')\n",
    "plt.title('Average Defect Rate by Product Type')\n",
    "plt.tight_layout()\n",
    "plt.show()"
   ]
  },
  {
   "cell_type": "markdown",
   "id": "ba6c78dc-9e66-4e54-ba26-265fe7e70761",
   "metadata": {},
   "source": [
    "### The defect rate for haircare products is the highest one."
   ]
  },
  {
   "cell_type": "markdown",
   "id": "ef669379-6542-4047-aa19-2d91e35e1b6b",
   "metadata": {},
   "source": [
    "### **Defect Rate by Transportation Mode**"
   ]
  },
  {
   "cell_type": "code",
   "execution_count": null,
   "id": "fc7e2893-c3d3-44f4-8e0d-28ecfe0e9d1b",
   "metadata": {},
   "outputs": [],
   "source": [
    "colors=['#141E46','#8DECB4','#D9EDBF','#41B06E']\n",
    "T_defect=df.groupby('Transportation modes')['Defect rates'].mean().reset_index()\n",
    "plt.figure(figsize=(8, 6))\n",
    "plt.pie(T_defect['Defect rates'], \n",
    "        labels=None, \n",
    "        autopct='%1.1f%%',startangle=90, colors=colors,labeldistance=1.1)\n",
    "plt.title('Defect Rate by Transportation Mode')\n",
    "plt.legend(T_defect['Transportation modes'], title=\"Transportation Modes\", loc=\"center left\",bbox_to_anchor=(1.2, 0.5))\n",
    "plt.show()"
   ]
  },
  {
   "cell_type": "markdown",
   "id": "9a9b4a68-86b0-4e2b-9495-eb0b94054445",
   "metadata": {},
   "source": [
    "### Products delivered by road have the highest chance of being defective, while products delivered by air have the lowest rate of defects."
   ]
  },
  {
   "cell_type": "code",
   "execution_count": null,
   "id": "b6f5a782-b397-444f-8dab-2ae70a48d3cd",
   "metadata": {},
   "outputs": [],
   "source": []
  }
 ],
 "metadata": {
  "kernelspec": {
   "display_name": "Python 3 (ipykernel)",
   "language": "python",
   "name": "python3"
  },
  "language_info": {
   "codemirror_mode": {
    "name": "ipython",
    "version": 3
   },
   "file_extension": ".py",
   "mimetype": "text/x-python",
   "name": "python",
   "nbconvert_exporter": "python",
   "pygments_lexer": "ipython3",
   "version": "3.12.4"
  }
 },
 "nbformat": 4,
 "nbformat_minor": 5
}
